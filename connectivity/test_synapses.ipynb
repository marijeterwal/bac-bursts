{
 "cells": [
  {
   "cell_type": "code",
   "execution_count": 1,
   "metadata": {
    "collapsed": false
   },
   "outputs": [
    {
     "data": {
      "text/plain": [
       "1.0"
      ]
     },
     "execution_count": 1,
     "metadata": {},
     "output_type": "execute_result"
    }
   ],
   "source": [
    "from __future__ import division\n",
    "from neuron import h\n",
    "import numpy as np\n",
    "import pylab as pl\n",
    "import os\n",
    "#from insert_synapses import insert_syn, insert_osc, insert_syn_varweights, make_stim, make_con\n",
    "from connection import *\n",
    "%matplotlib inline\n",
    "h.load_file(\"stdrun.hoc\")  # Load NEURON libraries\n",
    "\n",
    "h.nrn_load_dll(\"../connectivity/synapse_models/i686/.libs/libnrnmech.so\")"
   ]
  },
  {
   "cell_type": "code",
   "execution_count": 2,
   "metadata": {
    "collapsed": false
   },
   "outputs": [],
   "source": [
    "modelname = \"Bahl/Pyramidal.hoc\"  #\"model_Bahl8_CaApicLin_kca.hoc\"\n",
    "h.nrn_load_dll(\"../model/channels/i686/.libs/libnrnmech.so\")\n",
    "h.load_file(1, \"../model/models/\"+modelname)\n",
    "cell = h.Pyramidal() # make pyramidal neurons"
   ]
  },
  {
   "cell_type": "code",
   "execution_count": 3,
   "metadata": {
    "collapsed": true
   },
   "outputs": [],
   "source": [
    "tstop = 700\n",
    "dt = 0.025\n",
    "onset = 200\n",
    "h.tstop = tstop + onset # set before synapses are inserted"
   ]
  },
  {
   "cell_type": "code",
   "execution_count": 4,
   "metadata": {
    "collapsed": false
   },
   "outputs": [],
   "source": [
    "# Insert synapses\n",
    "syn = [[]]*1\n",
    "\n",
    "params_stim = {'kind': 'poisson', 'onset': onset, 'tstop': tstop, 'freq': 2, 'start': onset+200, 'noise': 0, 'pos' :0.5}\n",
    "params_syn = {'kind':'NMDA' ,'pos':0.5}\n",
    "params_weight = {'kind':'same', 'weight':0.0023} \n",
    "params_i1p1 = {'n_stim':1, 'cell': cell, 'section':'soma', 'params_stim':params_stim, 'params_syn':params_syn, 'params_weight':params_weight}\n",
    "syn, stim, con, weights, _ = synaptic_input(**params_i1p1)\n",
    "\n",
    "params_stim = {'kind': 'poisson', 'onset': onset, 'tstop': tstop, 'freq': 2, 'start': onset+200, 'noise': 0, 'pos' :0.5}\n",
    "params_syn = {'kind':'AMPA' ,'pos':0.5}\n",
    "params_weight = {'kind':'same', 'weight':0.0002} \n",
    "params_i2p1 = {'n_stim':1, 'cell': cell, 'section':'soma', 'params_stim':params_stim, 'params_syn':params_syn, 'params_weight':params_weight}\n",
    "syn2, stim2, con2, weights2, _ = synaptic_input(**params_i2p1)\n",
    "\n",
    "#weights: normal: AMPA: 0.00035, NMDA: 0.005, GABA: 0.01 facil: AMPA: 0.00035, NMDA: 0.000035, GABA: 0.06"
   ]
  },
  {
   "cell_type": "code",
   "execution_count": 5,
   "metadata": {
    "collapsed": false
   },
   "outputs": [],
   "source": [
    "# Create the Recording Vectors \n",
    "vec_t = h.Vector()\n",
    "vec_v = h.Vector()\n",
    "vec_v_tuft = h.Vector()\n",
    "vec_v_tuft.record(cell.tuft(0)._ref_v)\n",
    "vec_t.record(h._ref_t) # Time\n",
    "vec_v.record(cell.soma(0.5)._ref_v) # Voltage\n",
    "\n",
    "vec_i = [] # for the individual synaptic currents\n",
    "for s in syn: \n",
    "    tmp = h.Vector()\n",
    "    tmp.record(s._ref_i)\n",
    "    vec_i.append(tmp)"
   ]
  },
  {
   "cell_type": "code",
   "execution_count": 6,
   "metadata": {
    "collapsed": false
   },
   "outputs": [
    {
     "data": {
      "text/plain": [
       "0.0"
      ]
     },
     "execution_count": 6,
     "metadata": {},
     "output_type": "execute_result"
    }
   ],
   "source": [
    "# Run simulation\n",
    "h.tstop = tstop\n",
    "h.v_init = -70 \n",
    "h.init()\n",
    "h.run()"
   ]
  },
  {
   "cell_type": "code",
   "execution_count": 7,
   "metadata": {
    "collapsed": false
   },
   "outputs": [],
   "source": [
    "# Cut off onset \n",
    "v = np.array(vec_v)[int(onset/dt):int(tstop/dt)]\n",
    "v_tuft = np.array(vec_v_tuft)[int(onset/h.dt):int(tstop/dt)]\n",
    "t = np.array(vec_t)[int(onset/dt):int(tstop/dt)]\n",
    "\n",
    "currents = [[]] * len(vec_i)\n",
    "for idx, current in enumerate(vec_i):\n",
    "    currents[idx] = np.array(current)[int(onset/dt):int(tstop/dt)]"
   ]
  },
  {
   "cell_type": "code",
   "execution_count": 8,
   "metadata": {
    "collapsed": false
   },
   "outputs": [
    {
     "data": {
      "image/png": "[encoded data removed]",
      "text/plain": [
       "<matplotlib.figure.Figure at 0xace372ec>"
      ]
     },
     "metadata": {},
     "output_type": "display_data"
    },
    {
     "data": {
      "image/png": "[encoded data removed]",
      "text/plain": [
       "<matplotlib.figure.Figure at 0xace623ec>"
      ]
     },
     "metadata": {},
     "output_type": "display_data"
    }
   ],
   "source": [
    "## Plot: Currents\n",
    "\n",
    "# total synapic current\n",
    "itotal = np.zeros(np.size(t))\n",
    "for i in currents:\n",
    "    itotal += i\n",
    "\n",
    "pl.plot(t, itotal)\n",
    "pl.xlim(onset,tstop)\n",
    "pl.show()\n",
    "\n",
    "for i in currents:\n",
    "    pl.plot(t, i)\n",
    "pl.xlim(onset,tstop)\n",
    "pl.show()"
   ]
  },
  {
   "cell_type": "code",
   "execution_count": 9,
   "metadata": {
    "collapsed": false
   },
   "outputs": [
    {
     "data": {
      "image/png": "[encoded data removed]",
      "text/plain": [
       "<matplotlib.figure.Figure at 0xacd720cc>"
      ]
     },
     "metadata": {},
     "output_type": "display_data"
    }
   ],
   "source": [
    "# Plot: membrane potential\n",
    "pl.plot(t,v,'k')\n",
    "pl.plot(t,v_tuft,'r')\n",
    "pl.ylabel('Membrane Potential (mV)')\n",
    "pl.xlabel('Time (ms)')\n",
    "pl.show()"
   ]
  },
  {
   "cell_type": "code",
   "execution_count": 10,
   "metadata": {
    "collapsed": false
   },
   "outputs": [
    {
     "name": "stdout",
     "output_type": "stream",
     "text": [
      "0.149823180052\n"
     ]
    }
   ],
   "source": [
    "print np.max(v)-np.min(v)"
   ]
  },
  {
   "cell_type": "code",
   "execution_count": null,
   "metadata": {
    "collapsed": true
   },
   "outputs": [],
   "source": []
  },
  {
   "cell_type": "code",
   "execution_count": null,
   "metadata": {
    "collapsed": true
   },
   "outputs": [],
   "source": []
  }
 ],
 "metadata": {
  "kernelspec": {
   "display_name": "Python 2",
   "language": "python",
   "name": "python2"
  },
  "language_info": {
   "codemirror_mode": {
    "name": "ipython",
    "version": 2
   },
   "file_extension": ".py",
   "mimetype": "text/x-python",
   "name": "python",
   "nbconvert_exporter": "python",
   "pygments_lexer": "ipython2",
   "version": "2.7.6"
  }
 },
 "nbformat": 4,
 "nbformat_minor": 0
}
